{
  "nbformat": 4,
  "nbformat_minor": 0,
  "metadata": {
    "colab": {
      "name": "inceptionV3 with 25k image with 20 epoch.ipynb",
      "provenance": [],
      "collapsed_sections": [],
      "include_colab_link": true
    },
    "kernelspec": {
      "name": "python3",
      "display_name": "Python 3"
    },
    "language_info": {
      "name": "python"
    },
    "accelerator": "GPU"
  },
  "cells": [
    {
      "cell_type": "markdown",
      "metadata": {
        "id": "view-in-github",
        "colab_type": "text"
      },
      "source": [
        "<a href=\"https://colab.research.google.com/github/LikhanBiswas/Minsk/blob/main/inceptionV3_with_25k_image_with_20_epoch.ipynb\" target=\"_parent\"><img src=\"https://colab.research.google.com/assets/colab-badge.svg\" alt=\"Open In Colab\"/></a>"
      ]
    },
    {
      "cell_type": "code",
      "metadata": {
        "id": "zn0w2Eco9o_u"
      },
      "source": [
        "from tensorflow.keras.layers import Input, Lambda, Dense, Flatten\n",
        "from tensorflow.keras.models import Model\n",
        "from tensorflow.keras.applications.inception_v3 import InceptionV3\n",
        "from tensorflow.keras.applications.inception_v3 import InceptionV3\n",
        "from tensorflow.keras.preprocessing import image\n",
        "from tensorflow.keras.preprocessing.image import ImageDataGenerator,load_img\n",
        "from tensorflow.keras.models import Sequential\n",
        "import numpy as np\n",
        "from glob import glob"
      ],
      "execution_count": null,
      "outputs": []
    },
    {
      "cell_type": "code",
      "metadata": {
        "colab": {
          "base_uri": "https://localhost:8080/"
        },
        "id": "tN4jyaFs98mZ",
        "outputId": "dc921e2c-e927-4e4d-f7c5-613f4311ecd3"
      },
      "source": [
        "]from google.colab import drive\n",
        "drive.mount('/content/drive')"
      ],
      "execution_count": null,
      "outputs": [
        {
          "output_type": "stream",
          "text": [
            "Mounted at /content/drive\n"
          ],
          "name": "stdout"
        }
      ]
    },
    {
      "cell_type": "code",
      "metadata": {
        "id": "BNoDLoiM-YSs"
      },
      "source": [
        "IMAGE_SIZE = [224, 224]\n",
        "train_path = '/content/drive/MyDrive/real vs fake/train'\n",
        "valid_path = '/content/drive/MyDrive/real vs fake/test'"
      ],
      "execution_count": null,
      "outputs": []
    },
    {
      "cell_type": "code",
      "metadata": {
        "colab": {
          "base_uri": "https://localhost:8080/"
        },
        "id": "un6sDVp1-eGw",
        "outputId": "e5ed2629-47a5-49e1-a6ef-5f2f82da5b5f"
      },
      "source": [
        "inceptionv3 = InceptionV3(input_shape=IMAGE_SIZE + [3], weights='imagenet', include_top=False)"
      ],
      "execution_count": null,
      "outputs": [
        {
          "output_type": "stream",
          "text": [
            "Downloading data from https://storage.googleapis.com/tensorflow/keras-applications/inception_v3/inception_v3_weights_tf_dim_ordering_tf_kernels_notop.h5\n",
            "87916544/87910968 [==============================] - 0s 0us/step\n"
          ],
          "name": "stdout"
        }
      ]
    },
    {
      "cell_type": "code",
      "metadata": {
        "id": "Kps3Iyug-nN4"
      },
      "source": [
        "for layer in inceptionv3.layers:\n",
        "    layer.trainable = False"
      ],
      "execution_count": null,
      "outputs": []
    },
    {
      "cell_type": "code",
      "metadata": {
        "id": "pFS4XFKY-vTf"
      },
      "source": [
        "folders = glob('/content/drive/MyDrive/real vs fake/train/*')"
      ],
      "execution_count": null,
      "outputs": []
    },
    {
      "cell_type": "code",
      "metadata": {
        "id": "RbJmetOL-1j2"
      },
      "source": [
        "x = Flatten()(inceptionv3.output)"
      ],
      "execution_count": null,
      "outputs": []
    },
    {
      "cell_type": "code",
      "metadata": {
        "id": "dGi50wlI-_1k"
      },
      "source": [
        "prediction = Dense(len(folders), activation='softmax')(x)\n",
        "\n",
        "# create a model object\n",
        "model = Model(inputs=inceptionv3.input, outputs=prediction)"
      ],
      "execution_count": null,
      "outputs": []
    },
    {
      "cell_type": "code",
      "metadata": {
        "id": "e-c3x_6j-_-d"
      },
      "source": [
        "model.compile(\n",
        "  loss='categorical_crossentropy',\n",
        "  optimizer='rmsprop',\n",
        "  metrics=['accuracy']\n",
        ")"
      ],
      "execution_count": null,
      "outputs": []
    },
    {
      "cell_type": "code",
      "metadata": {
        "id": "hm9lyKB7_dJ0"
      },
      "source": [
        "from tensorflow.keras.preprocessing.image import ImageDataGenerator\n",
        "\n",
        "train_datagen = ImageDataGenerator(rescale = 1./255,\n",
        "                                   shear_range = 0.2,\n",
        "                                   zoom_range = 0.2,\n",
        "                                   horizontal_flip = True)\n",
        "\n",
        "test_datagen = ImageDataGenerator(rescale = 1./255)"
      ],
      "execution_count": null,
      "outputs": []
    },
    {
      "cell_type": "code",
      "metadata": {
        "colab": {
          "base_uri": "https://localhost:8080/"
        },
        "id": "ecI73p18_gt5",
        "outputId": "813f86c2-cfb5-4fc2-d166-48100b066fc0"
      },
      "source": [
        "training_set = train_datagen.flow_from_directory('/content/drive/MyDrive/real vs fake/train',\n",
        "                                                 target_size = (224, 224),\n",
        "                                                 batch_size = 100,\n",
        "                                                 class_mode = 'categorical')"
      ],
      "execution_count": null,
      "outputs": [
        {
          "output_type": "stream",
          "text": [
            "Found 15024 images belonging to 2 classes.\n"
          ],
          "name": "stdout"
        }
      ]
    },
    {
      "cell_type": "code",
      "metadata": {
        "colab": {
          "base_uri": "https://localhost:8080/"
        },
        "id": "jW1xPbhd_m05",
        "outputId": "080cc956-c852-4094-be7a-a5eae2315672"
      },
      "source": [
        "test_set = test_datagen.flow_from_directory('/content/drive/MyDrive/real vs fake/test',\n",
        "                                            target_size = (224, 224),\n",
        "                                            batch_size = 100,\n",
        "                                            class_mode = 'categorical')"
      ],
      "execution_count": null,
      "outputs": [
        {
          "output_type": "stream",
          "text": [
            "Found 10000 images belonging to 2 classes.\n"
          ],
          "name": "stdout"
        }
      ]
    },
    {
      "cell_type": "code",
      "metadata": {
        "colab": {
          "base_uri": "https://localhost:8080/"
        },
        "id": "fh6EtIKk_3nE",
        "outputId": "7ef51491-b62b-47a7-8e8f-8483f553a7f5"
      },
      "source": [
        "r = model.fit(\n",
        "  training_set,\n",
        "  validation_data=test_set,\n",
        "  epochs=20,\n",
        "  steps_per_epoch=len(training_set),\n",
        "  validation_steps=len(test_set)\n",
        ")"
      ],
      "execution_count": null,
      "outputs": [
        {
          "output_type": "stream",
          "text": [
            "Epoch 1/20\n",
            "151/151 [==============================] - 6667s 44s/step - loss: 0.8012 - accuracy: 0.9640 - val_loss: 0.0121 - val_accuracy: 0.9976\n",
            "Epoch 2/20\n",
            "151/151 [==============================] - 195s 1s/step - loss: 0.2779 - accuracy: 0.9862 - val_loss: 0.0079 - val_accuracy: 0.9984\n",
            "Epoch 3/20\n",
            "151/151 [==============================] - 193s 1s/step - loss: 0.1783 - accuracy: 0.9882 - val_loss: 0.0105 - val_accuracy: 0.9987\n",
            "Epoch 4/20\n",
            "151/151 [==============================] - 193s 1s/step - loss: 0.0824 - accuracy: 0.9936 - val_loss: 0.0119 - val_accuracy: 0.9990\n",
            "Epoch 5/20\n",
            "151/151 [==============================] - 193s 1s/step - loss: 0.0460 - accuracy: 0.9963 - val_loss: 0.0062 - val_accuracy: 0.9990\n",
            "Epoch 6/20\n",
            "151/151 [==============================] - 194s 1s/step - loss: 0.0148 - accuracy: 0.9981 - val_loss: 0.0719 - val_accuracy: 0.9945\n",
            "Epoch 7/20\n",
            "151/151 [==============================] - 194s 1s/step - loss: 0.0347 - accuracy: 0.9972 - val_loss: 0.0105 - val_accuracy: 0.9987\n",
            "Epoch 8/20\n",
            "151/151 [==============================] - 194s 1s/step - loss: 0.0116 - accuracy: 0.9985 - val_loss: 0.0077 - val_accuracy: 0.9992\n",
            "Epoch 9/20\n",
            "151/151 [==============================] - 193s 1s/step - loss: 0.0141 - accuracy: 0.9989 - val_loss: 0.0347 - val_accuracy: 0.9971\n",
            "Epoch 10/20\n",
            "151/151 [==============================] - 193s 1s/step - loss: 4.3427e-04 - accuracy: 0.9998 - val_loss: 0.0092 - val_accuracy: 0.9987\n",
            "Epoch 11/20\n",
            "151/151 [==============================] - 194s 1s/step - loss: 0.0075 - accuracy: 0.9990 - val_loss: 0.0079 - val_accuracy: 0.9995\n",
            "Epoch 12/20\n",
            "151/151 [==============================] - 193s 1s/step - loss: 0.0046 - accuracy: 0.9993 - val_loss: 0.0110 - val_accuracy: 0.9991\n",
            "Epoch 13/20\n",
            "151/151 [==============================] - 193s 1s/step - loss: 0.0072 - accuracy: 0.9995 - val_loss: 0.0490 - val_accuracy: 0.9956\n",
            "Epoch 14/20\n",
            "151/151 [==============================] - 193s 1s/step - loss: 0.0061 - accuracy: 0.9993 - val_loss: 0.0058 - val_accuracy: 0.9992\n",
            "Epoch 15/20\n",
            "151/151 [==============================] - 193s 1s/step - loss: 0.0029 - accuracy: 0.9997 - val_loss: 0.0122 - val_accuracy: 0.9989\n",
            "Epoch 16/20\n",
            "151/151 [==============================] - 193s 1s/step - loss: 0.0051 - accuracy: 0.9995 - val_loss: 0.0081 - val_accuracy: 0.9996\n",
            "Epoch 17/20\n",
            "151/151 [==============================] - 194s 1s/step - loss: 0.0035 - accuracy: 0.9997 - val_loss: 0.0301 - val_accuracy: 0.9981\n",
            "Epoch 18/20\n",
            "151/151 [==============================] - 195s 1s/step - loss: 2.3119e-04 - accuracy: 0.9999 - val_loss: 0.0894 - val_accuracy: 0.9930\n",
            "Epoch 19/20\n",
            "151/151 [==============================] - 193s 1s/step - loss: 0.0016 - accuracy: 0.9999 - val_loss: 0.0243 - val_accuracy: 0.9978\n",
            "Epoch 20/20\n",
            "151/151 [==============================] - 193s 1s/step - loss: 1.5774e-04 - accuracy: 0.9999 - val_loss: 0.5094 - val_accuracy: 0.9745\n"
          ],
          "name": "stdout"
        }
      ]
    },
    {
      "cell_type": "code",
      "metadata": {
        "id": "vPiByRizchbv"
      },
      "source": [
        "import matplotlib.pyplot as plt"
      ],
      "execution_count": null,
      "outputs": []
    },
    {
      "cell_type": "code",
      "metadata": {
        "colab": {
          "base_uri": "https://localhost:8080/",
          "height": 530
        },
        "id": "YDILckrXc7gS",
        "outputId": "7232fa9a-c336-4229-fae1-860f838622f6"
      },
      "source": [
        "# plot the loss\n",
        "plt.plot(r.history['loss'], label='train loss')\n",
        "plt.plot(r.history['val_loss'], label='val loss')\n",
        "plt.legend()\n",
        "plt.show()\n",
        "plt.savefig('LossVal_loss')\n",
        "\n",
        "# plot the accuracy\n",
        "plt.plot(r.history['accuracy'], label='train acc')\n",
        "plt.plot(r.history['val_accuracy'], label='val acc')\n",
        "plt.legend()\n",
        "plt.show()\n",
        "plt.savefig('AccVal_acc')"
      ],
      "execution_count": null,
      "outputs": [
        {
          "output_type": "display_data",
          "data": {
            "image/png": "[encoded data removed]",
            "text/plain": [
              "<Figure size 432x288 with 1 Axes>"
            ]
          },
          "metadata": {
            "tags": [],
            "needs_background": "light"
          }
        },
        {
          "output_type": "display_data",
          "data": {
            "image/png": "[encoded data removed]",
            "text/plain": [
              "<Figure size 432x288 with 1 Axes>"
            ]
          },
          "metadata": {
            "tags": [],
            "needs_background": "light"
          }
        },
        {
          "output_type": "display_data",
          "data": {
            "text/plain": [
              "<Figure size 432x288 with 0 Axes>"
            ]
          },
          "metadata": {
            "tags": []
          }
        }
      ]
    }
  ]
}